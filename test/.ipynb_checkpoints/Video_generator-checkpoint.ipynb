{
 "cells": [
  {
   "cell_type": "code",
   "execution_count": 1,
   "id": "44178f2b-e525-438b-90c1-70aebba70067",
   "metadata": {
    "tags": []
   },
   "outputs": [],
   "source": [
    "import openai"
   ]
  },
  {
   "cell_type": "markdown",
   "id": "9c2b6975-1d4a-496b-91ed-30a5254e451f",
   "metadata": {},
   "source": [
    "## 질환에 대한 운동 추천받기"
   ]
  },
  {
   "cell_type": "code",
   "execution_count": 2,
   "id": "dd64c77a-514e-4497-ab65-bf14385ea135",
   "metadata": {
    "tags": []
   },
   "outputs": [],
   "source": [
    "def get_exercise_suggestions(disease):\n",
    "    prompt = f\"\"\"\n",
    "    {disease} 환자에게 도움이 될 수 있는 스트레칭과 운동을 나열해줘.\n",
    "    각 항목은 1분 내외로 가능한 것으로 해줘.\n",
    "    \"\"\"\n",
    "    system_role = \"당신은 건강과 운동에 대한 조언을 제공하는 유용한 도우미입니다.\"\n",
    "    messages = [\n",
    "        {\"role\": \"system\", \"content\": system_role},\n",
    "        {\"role\": \"user\", \"content\": prompt}\n",
    "    ]\n",
    "    response = openai.ChatCompletion.create(\n",
    "        model=\"gpt-4-turbo\",\n",
    "        messages=messages,\n",
    "        stream=False\n",
    "    )\n",
    "    suggestions = response.choices[0].message['content'].strip()\n",
    "    return suggestions"
   ]
  },
  {
   "cell_type": "code",
   "execution_count": 3,
   "id": "a76c7093-4eb9-4952-96f1-c408309d1633",
   "metadata": {
    "tags": []
   },
   "outputs": [
    {
     "name": "stdout",
     "output_type": "stream",
     "text": [
      "허리 통증을 완화하기 위해 시도해 볼 수 있는 여러 스트레칭과 운동들이 있습니다. 이 운동들은 각각 대략 1분 내외로 수행할 수 있으며, 규칙적으로 실시하면 허리 통증 완화에 도움이 될 수 있습니다. 하지만 운동을 시작하기 전에 의료 전문가나 물리치료사와 상담하는 것이 좋습니다. 다음은 몇 가지 추천 운동입니다:\n",
      "\n",
      "1. **고양이-소 자세 (Cat-Cow Stretch)**\n",
      "   - 손바닥과 무릎을 바닥에 대고 네발기기 자세를 취합니다.\n",
      "   - 천천히 등을 아치형으로 만들면서 머리를 내리고 고개를 숙입니다 (고양이 자세).\n",
      "   - 그 다음 척추를 아래로 내리면서 머리와 엉덩이를 위로 들어 올리며 가슴을 열어줍니다 (소 자세).\n",
      "   - 이 동작을 1분 동안 천천히 반복합니다.\n",
      "\n",
      "2. **무릎을 가슴쪽으로 당기는 스트레칭 (Knee to Chest Stretch)**\n",
      "   - 바닥에 누워 다리를 펴고, 한쪽 무릎을 가슴쪽으로 당겨줍니다.\n",
      "   - 다리를 손으로 감싸고 20-30초간 유지합니다. \n",
      "   - 다리를 바꾸어 반복한 후, 두 다리를 동시에 당겨서 같은 동작을 수행합니다.\n",
      "   - 각 다리당 20-30초, 총 1분 이내로 수행합니다.\n",
      "\n",
      "3. **펠빅 틸트 (Pelvic Tilt)**\n",
      "   - 바닥에 등을 대고 눕습니다. 무릎은 구부리고 발은 바닥에 평평하게 둡니다.\n",
      "   - 배를 깊게 들이마시고, 숨을 내쉴 때 척추를 바닥에 밀착시키며 골반을 천천히 끌어올립니다.\n",
      "   - 각각의 틸트를 5초간 유지하면서 1분 동안 반복합니다.\n",
      "\n",
      "4. **하복부 강화 운동 (Lower Abdominal Strengthening)**\n",
      "   - 누운 상태에서 두 다리를 공중으로 들고, 무릎을 약간 구부립니다.\n",
      "   - 하복부를 이용해 다리를 살짝 아래로 내렸다가 다시 원래 위치로 올립니다.\n",
      "   - 이동 범위는 작게 유지하고 중점은 하복부 사용에 두며 1분 동안 수행합니다.\n",
      "\n",
      "5. **좌우 트위스트 스트레칭**\n",
      "   - 바닥에 누워 무릎을 구부립니다. 팔을 양쪽으로 펼쳐 T자 형태를 만듭니다.\n",
      "   - 무릎을 한쪽으로 접으며 다른 쪽으로 고개를 돌리고, 허리와 척추가 트위스트 되도록 합니다.\n",
      "   - 각 방향으로 20-30초씩 유지하며 1분 내에 수행을 마칩니다.\n",
      "\n",
      "이러한 운동은 지속적으로 수행하면 허리 건강을 개선하고 통증을 줄이는 데 도움이 될 수 있습니다. 중요한 것은 본인의 가능 범위 내에서 안전하게 운동하는 것입니다.\n"
     ]
    }
   ],
   "source": [
    "# Example usage\n",
    "disease = \"허리 통증\"\n",
    "exercise_suggestions = get_exercise_suggestions(disease)\n",
    "print(exercise_suggestions)"
   ]
  },
  {
   "cell_type": "markdown",
   "id": "3f285be0-913e-4ee1-8c0d-bfadb60bff19",
   "metadata": {},
   "source": [
    "## 운동 영상 생성하기"
   ]
  },
  {
   "cell_type": "code",
   "execution_count": 4,
   "id": "94a90cef-b79c-4052-aad9-e69aede5561c",
   "metadata": {
    "tags": []
   },
   "outputs": [
    {
     "name": "stdout",
     "output_type": "stream",
     "text": [
      "['stretch1.mp4', 'stretch2.mp4', 'exercise1.mp4']\n"
     ]
    }
   ],
   "source": [
    "# Mock function to simulate retrieving exercise video clips\n",
    "def get_exercise_clips(exercises):\n",
    "    # In a real implementation, this function would query a video database or API\n",
    "    # For now, we will return mock video file paths for each exercise\n",
    "    exercise_clips = {\n",
    "        \"스트레칭 1\": \"stretch1.mp4\",\n",
    "        \"스트레칭 2\": \"stretch2.mp4\",\n",
    "        \"운동 1\": \"exercise1.mp4\",\n",
    "        \"운동 2\": \"exercise2.mp4\"\n",
    "    }\n",
    "    return [exercise_clips.get(exercise, \"default.mp4\") for exercise in exercises]\n",
    "\n",
    "# Example usage\n",
    "exercise_list = [\"스트레칭 1\", \"스트레칭 2\", \"운동 1\"]\n",
    "exercise_clips = get_exercise_clips(exercise_list)\n",
    "print(exercise_clips)"
   ]
  },
  {
   "cell_type": "code",
   "execution_count": 5,
   "id": "1ee27ae4-e990-4332-89e5-2ba069da3ca9",
   "metadata": {
    "tags": []
   },
   "outputs": [
    {
     "ename": "ModuleNotFoundError",
     "evalue": "No module named 'moviepy'",
     "output_type": "error",
     "traceback": [
      "\u001b[1;31m---------------------------------------------------------------------------\u001b[0m",
      "\u001b[1;31mModuleNotFoundError\u001b[0m                       Traceback (most recent call last)",
      "\u001b[1;32m~\\AppData\\Local\\Temp\\ipykernel_8324\\4072953236.py\u001b[0m in \u001b[0;36m<module>\u001b[1;34m\u001b[0m\n\u001b[1;32m----> 1\u001b[1;33m \u001b[1;32mfrom\u001b[0m \u001b[0mmoviepy\u001b[0m\u001b[1;33m.\u001b[0m\u001b[0meditor\u001b[0m \u001b[1;32mimport\u001b[0m \u001b[0mVideoFileClip\u001b[0m\u001b[1;33m,\u001b[0m \u001b[0mconcatenate_videoclips\u001b[0m\u001b[1;33m\u001b[0m\u001b[1;33m\u001b[0m\u001b[0m\n\u001b[0m\u001b[0;32m      2\u001b[0m \u001b[1;33m\u001b[0m\u001b[0m\n\u001b[0;32m      3\u001b[0m \u001b[1;32mdef\u001b[0m \u001b[0mcreate_exercise_video\u001b[0m\u001b[1;33m(\u001b[0m\u001b[0mexercise_clips\u001b[0m\u001b[1;33m,\u001b[0m \u001b[0moutput_path\u001b[0m\u001b[1;33m=\u001b[0m\u001b[1;34m\"output.mp4\"\u001b[0m\u001b[1;33m)\u001b[0m\u001b[1;33m:\u001b[0m\u001b[1;33m\u001b[0m\u001b[1;33m\u001b[0m\u001b[0m\n\u001b[0;32m      4\u001b[0m     \u001b[0mclips\u001b[0m \u001b[1;33m=\u001b[0m \u001b[1;33m[\u001b[0m\u001b[1;33m]\u001b[0m\u001b[1;33m\u001b[0m\u001b[1;33m\u001b[0m\u001b[0m\n\u001b[0;32m      5\u001b[0m     \u001b[1;32mfor\u001b[0m \u001b[0mclip_path\u001b[0m \u001b[1;32min\u001b[0m \u001b[0mexercise_clips\u001b[0m\u001b[1;33m:\u001b[0m\u001b[1;33m\u001b[0m\u001b[1;33m\u001b[0m\u001b[0m\n",
      "\u001b[1;31mModuleNotFoundError\u001b[0m: No module named 'moviepy'"
     ]
    }
   ],
   "source": [
    "from moviepy.editor import VideoFileClip, concatenate_videoclips\n",
    "\n",
    "def create_exercise_video(exercise_clips, output_path=\"output.mp4\"):\n",
    "    clips = []\n",
    "    for clip_path in exercise_clips:\n",
    "        clip = VideoFileClip(clip_path).subclip(0, 20)  # Trim each clip to 20 seconds\n",
    "        clips.append(clip)\n",
    "    \n",
    "    final_clip = concatenate_videoclips(clips, method=\"compose\")\n",
    "    final_clip = final_clip.set_duration(60)  # Ensure the final video is 1 minute long\n",
    "    final_clip.write_videofile(output_path, codec=\"libx264\", audio_codec=\"aac\")\n",
    "\n",
    "# Example usage\n",
    "create_exercise_video(exercise_clips)\n"
   ]
  },
  {
   "cell_type": "markdown",
   "id": "568d6c67-ecda-404a-bb4e-7fe0a70b1140",
   "metadata": {},
   "source": [
    "## 전체 코드 한번에 보기"
   ]
  },
  {
   "cell_type": "code",
   "execution_count": null,
   "id": "12d82030-a39b-47e2-a83b-267dd388ce30",
   "metadata": {},
   "outputs": [],
   "source": [
    "import openai\n",
    "from moviepy.editor import VideoFileClip, concatenate_videoclips\n",
    "\n",
    "# Step 1: Generate Exercise Suggestions\n",
    "def get_exercise_suggestions(disease):\n",
    "    prompt = f\"\"\"\n",
    "    {disease} 환자에게 도움이 될 수 있는 스트레칭과 운동을 나열해줘.\n",
    "    각 항목은 1분 내외로 가능한 것으로 해줘.\n",
    "    \"\"\"\n",
    "    system_role = \"당신은 건강과 운동에 대한 조언을 제공하는 유용한 도우미입니다.\"\n",
    "    messages = [\n",
    "        {\"role\": \"system\", \"content\": system_role},\n",
    "        {\"role\": \"user\", \"content\": prompt}\n",
    "    ]\n",
    "    response = openai.ChatCompletion.create(\n",
    "        model=\"gpt-4-turbo\",\n",
    "        messages=messages,\n",
    "        stream=False\n",
    "    )\n",
    "    suggestions = response.choices[0].message['content'].strip().split(\"\\n\")\n",
    "    return suggestions\n",
    "\n",
    "# Step 2: Retrieve Exercise Videos (Mock Implementation)\n",
    "def get_exercise_clips(exercises):\n",
    "    # In a real implementation, this function would query a video database or API\n",
    "    # For now, we will return mock video file paths for each exercise\n",
    "    exercise_clips = {\n",
    "        \"스트레칭 1\": \"stretch1.mp4\",\n",
    "        \"스트레칭 2\": \"stretch2.mp4\",\n",
    "        \"운동 1\": \"exercise1.mp4\",\n",
    "        \"운동 2\": \"exercise2.mp4\"\n",
    "    }\n",
    "    return [exercise_clips.get(exercise, \"default.mp4\") for exercise in exercises]\n",
    "\n",
    "# Step 3: Compile Videos Using MoviePy\n",
    "def create_exercise_video(exercise_clips, output_path=\"output.mp4\"):\n",
    "    clips = []\n",
    "    for clip_path in exercise_clips:\n",
    "        clip = VideoFileClip(clip_path).subclip(0, 20)  # Trim each clip to 20 seconds\n",
    "        clips.append(clip)\n",
    "    \n",
    "    final_clip = concatenate_videoclips(clips, method=\"compose\")\n",
    "    final_clip = final_clip.set_duration(60)  # Ensure the final video is 1 minute long\n",
    "    final_clip.write_videofile(output_path, codec=\"libx264\", audio_codec=\"aac\")\n",
    "\n",
    "# Example usage\n",
    "disease = \"허리 통증\"\n",
    "exercise_suggestions = get_exercise_suggestions(disease)\n",
    "print(\"Exercise Suggestions:\", exercise_suggestions)\n",
    "\n",
    "exercise_clips = get_exercise_clips(exercise_suggestions)\n",
    "print(\"Exercise Clips:\", exercise_clips)\n",
    "\n",
    "create_exercise_video(exercise_clips)\n"
   ]
  }
 ],
 "metadata": {
  "kernelspec": {
   "display_name": "Python 3 (ipykernel)",
   "language": "python",
   "name": "python3"
  },
  "language_info": {
   "codemirror_mode": {
    "name": "ipython",
    "version": 3
   },
   "file_extension": ".py",
   "mimetype": "text/x-python",
   "name": "python",
   "nbconvert_exporter": "python",
   "pygments_lexer": "ipython3",
   "version": "3.7.9"
  }
 },
 "nbformat": 4,
 "nbformat_minor": 5
}
