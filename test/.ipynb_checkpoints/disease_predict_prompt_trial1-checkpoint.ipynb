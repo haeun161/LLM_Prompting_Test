{
 "cells": [
  {
   "cell_type": "markdown",
   "id": "9602c016-665c-4c2d-8770-ff07c013f688",
   "metadata": {},
   "source": [
    "## Trial 1\n",
    "- 생성된 결과 중 가장 빈번하게 나온 5가지 질환 출력하도록 해봄\n",
    "- 결과.. 좋은지 잘 모르겠음."
   ]
  },
  {
   "cell_type": "code",
   "execution_count": 1,
   "id": "32668b16-a2dc-4e44-b46e-090e5d2f196e",
   "metadata": {
    "tags": []
   },
   "outputs": [],
   "source": [
    "import openai\n",
    "import os"
   ]
  },
  {
   "cell_type": "code",
   "execution_count": 2,
   "id": "460a67b4-7a6c-469f-8dfa-fba85f6c0f86",
   "metadata": {
    "tags": []
   },
   "outputs": [],
   "source": [
    "openai.api_key = os.getenv(\"OPENAI_API_KEY\")"
   ]
  },
  {
   "cell_type": "code",
   "execution_count": 3,
   "id": "5c59d9db-b3ff-48ef-b563-cc8b31bd21c3",
   "metadata": {
    "tags": []
   },
   "outputs": [],
   "source": [
    "from collections import Counter"
   ]
  },
  {
   "cell_type": "code",
   "execution_count": 4,
   "id": "383d3dc2-37cf-4f11-87c5-1d0ed3e11753",
   "metadata": {
    "tags": []
   },
   "outputs": [],
   "source": [
    "def request_chat_completion(prompt, system_role=\"당신은 유용한 도우미입니다.\", model=\"gpt-4-turbo\", stream=False):\n",
    "    messages = [\n",
    "        {\"role\": \"system\", \"content\": system_role},\n",
    "        {\"role\": \"user\", \"content\": prompt}\n",
    "    ]\n",
    "    response = openai.ChatCompletion.create(\n",
    "        model=model,\n",
    "        messages=messages,\n",
    "        stream=stream\n",
    "    )\n",
    "    return response\n",
    "\n",
    "def capture_streaming_response(response):\n",
    "    captured_text = \"\"\n",
    "    for chunk in response:\n",
    "        delta = chunk.choices[0][\"delta\"]\n",
    "        if \"content\" in delta:\n",
    "            captured_text += delta[\"content\"]\n",
    "    return captured_text\n",
    "\n",
    "def extract_diseases(response_text):\n",
    "    # Assuming diseases are listed line by line, extract lines as diseases\n",
    "    diseases = response_text.strip().split(\"\\n\")\n",
    "    return [disease.strip() for disease in diseases if disease.strip()]\n",
    "\n",
    "def get_most_frequent_diseases(prompt, system_role, num_responses=10):\n",
    "    all_diseases = []\n",
    "    for _ in range(num_responses):\n",
    "        response = request_chat_completion(prompt, system_role=system_role, stream=True)\n",
    "        response_text = capture_streaming_response(response)\n",
    "        diseases = extract_diseases(response_text)\n",
    "        all_diseases.extend(diseases)\n",
    "    \n",
    "    disease_counts = Counter(all_diseases)\n",
    "    most_common_diseases = disease_counts.most_common(5)  # Get top 5 most common diseases\n",
    "    return most_common_diseases"
   ]
  },
  {
   "cell_type": "code",
   "execution_count": 5,
   "id": "b06d02d7-731b-4e2a-ad9e-c38f3723c02c",
   "metadata": {
    "tags": []
   },
   "outputs": [],
   "source": [
    "prompt_template = \"\"\"\n",
    "당신의 임무는 일관된 스타일로 답변하는 것입니다.\n",
    "통증 부위: 허리, 목.\n",
    "발생 시각: 2024.07.06.\n",
    "오래 서 있을때 통증 발생.\n",
    "통증 느낌: 저림\n",
    "통증 강도: 2/10.\n",
    "다음과 같은 통증 호소자에게 관련 질환 5개를 중요도 순으로 알려줘.\n",
    "질환명만 적어.\n",
    "\"\"\".strip()"
   ]
  },
  {
   "cell_type": "code",
   "execution_count": 6,
   "id": "a29167e7-8a82-46f6-8668-db4a34df6e42",
   "metadata": {
    "tags": []
   },
   "outputs": [],
   "source": [
    "system_role = \"당신은 사용자의 상황에 따라 질환명을 예측해주는 유용한 질환예측 도우미입니다.\""
   ]
  },
  {
   "cell_type": "code",
   "execution_count": 7,
   "id": "a4162ca5-9cb0-4a40-8969-3c1edde2cf05",
   "metadata": {
    "tags": []
   },
   "outputs": [
    {
     "name": "stdout",
     "output_type": "stream",
     "text": [
      "Most frequent diseases: [('1. 요통', 6), ('3. 근막통증증후군', 6), ('4. 척추관 협착증', 5), ('2. 경추 디스크', 4), ('4. 척추관협착증', 2)]\n"
     ]
    }
   ],
   "source": [
    "most_frequent_diseases = get_most_frequent_diseases(prompt_template, system_role, num_responses=10)\n",
    "print(\"Most frequent diseases:\", most_frequent_diseases)"
   ]
  },
  {
   "cell_type": "markdown",
   "id": "95fd77b7-00bc-4008-82f1-d94ea4af92b4",
   "metadata": {},
   "source": [
    "## 결과\n",
    "- 조금 비슷하게 나오는 것 같지만 완전 일치하지는 않음\n",
    "- 가끔 비전문적인 답변이 나오기도 함 EX) 저림 현상\n",
    "\n",
    "- 결과예시\n",
    "Most frequent diseases: [('1. 요통', 4), ('2. 경추 디스크', 3), ('4. 척추관협착증', 3), ('3. 근막통증증후군', 3), ('4. 척추관 협착증', 2)]\n",
    "Most frequent diseases: [('1. 요통', 6), ('3. 근막통증증후군', 6), ('4. 척추관 협착증', 5), ('2. 경추 디스크', 4), ('4. 척추관협착증', 2)]"
   ]
  },
  {
   "cell_type": "code",
   "execution_count": null,
   "id": "dfbf23a2-eb41-4dd7-816a-5029ec55f86d",
   "metadata": {},
   "outputs": [],
   "source": []
  }
 ],
 "metadata": {
  "kernelspec": {
   "display_name": "Python 3 (ipykernel)",
   "language": "python",
   "name": "python3"
  },
  "language_info": {
   "codemirror_mode": {
    "name": "ipython",
    "version": 3
   },
   "file_extension": ".py",
   "mimetype": "text/x-python",
   "name": "python",
   "nbconvert_exporter": "python",
   "pygments_lexer": "ipython3",
   "version": "3.7.9"
  }
 },
 "nbformat": 4,
 "nbformat_minor": 5
}
