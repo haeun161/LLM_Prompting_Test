{
 "cells": [
  {
   "cell_type": "markdown",
   "id": "6e2f8267-225a-43d6-9d44-49d00b834fcf",
   "metadata": {},
   "source": [
    "# 기능: 질환부합도 확인\n",
    "- GPT4 사용해서 sample 생성하기\n",
    "- Llama2 Fine-Tuning하여 질환 부합도 예측하는 모델 만들기"
   ]
  },
  {
   "cell_type": "code",
   "execution_count": 16,
   "id": "37b531c0-2d64-49eb-85d3-2347a0e7fc4a",
   "metadata": {
    "tags": []
   },
   "outputs": [],
   "source": [
    "# SAMPLE 생성하기"
   ]
  },
  {
   "cell_type": "code",
   "execution_count": 3,
   "id": "1cc80e6f-33c6-421b-abfa-1992df73ee0b",
   "metadata": {
    "tags": []
   },
   "outputs": [],
   "source": [
    "import openai\n",
    "import os\n",
    "import json"
   ]
  },
  {
   "cell_type": "code",
   "execution_count": 4,
   "id": "86e6d29a-daab-43cd-8b0e-7cede087bb6f",
   "metadata": {
    "tags": []
   },
   "outputs": [],
   "source": [
    "openai.api_key = os.getenv(\"OPENAI_API_KEY\")"
   ]
  },
  {
   "cell_type": "code",
   "execution_count": 5,
   "id": "2a803365-7ae8-418f-941f-68175b62f616",
   "metadata": {
    "tags": []
   },
   "outputs": [],
   "source": [
    "###모델 파라미터"
   ]
  },
  {
   "cell_type": "code",
   "execution_count": 6,
   "id": "7d4db3fa-fa18-4994-9168-459016737410",
   "metadata": {
    "tags": []
   },
   "outputs": [],
   "source": [
    "def request_chat_completion(\n",
    "    prompt, \n",
    "    system_role=\"너는 유용한 도우미야.\", \n",
    "    model=\"gpt-4-turbo\",\n",
    "    stream=False\n",
    "):\n",
    "    messages = [\n",
    "        {\"role\": \"system\", \"content\": system_role},\n",
    "        {\"role\": \"user\", \"content\": prompt}\n",
    "    ]\n",
    "    response = openai.ChatCompletion.create(\n",
    "        model=model,\n",
    "        messages=messages,\n",
    "        stream=stream\n",
    "    )\n",
    "    return response"
   ]
  },
  {
   "cell_type": "code",
   "execution_count": 8,
   "id": "2e8801d9-6306-4221-bb0d-03368da293e7",
   "metadata": {
    "tags": []
   },
   "outputs": [],
   "source": [
    "def capture_streaming_response(response):\n",
    "    captured_text = \"\"\n",
    "    for chunk in response:\n",
    "        delta = chunk.choices[0][\"delta\"]\n",
    "        if \"content\" in delta:\n",
    "            captured_text += delta[\"content\"]\n",
    "    return captured_text"
   ]
  },
  {
   "cell_type": "markdown",
   "id": "1dddbb5f-1cf0-45c9-b82a-df5ea1136ba2",
   "metadata": {
    "tags": []
   },
   "source": [
    "## 프롬프트 엔지니어링\n",
    "- 질환(질병)에 대한 데이터셋 구축하기"
   ]
  },
  {
   "cell_type": "code",
   "execution_count": 19,
   "id": "068407e9-45c6-413c-9c1b-7c2969ab8532",
   "metadata": {},
   "outputs": [],
   "source": [
    "query=\"\"\"질병에 대한 다양한 정보를 수집 중이다.\n",
    "너의 할 일은 다양한 질병에 대한 정보를 만들어 주는 것이다.\n",
    "\n",
    "그런데 다음 조건을 충족시켜주면 좋겠어.\n",
    "1. 질환명은 아래 \"질환명 리스트\"에서 최소 1개에서 최대 3개까지 샘플링해서 포함시켜줘.\n",
    "2. 만약 1번에서 샘플링한 질환명 자체에 통증의 느낌이나 원인, 위치가 포함되어 있다면 분리해서 사용해줘.\n",
    "3. 만약 1번에서 샘플링한 질환명에 다수의 질환이 혼합되어 있다면 대표 질환만 남겨줘.\n",
    "4. 만약 질환명이 아닌 것 같으면 제외시켜줘.\n",
    "5. 질환에는 통증의 위치나 통증의 느낌, 원인이 동반될 수 있어.\n",
    "6. 맨 아래 든 예시처럼 질환 문장 마다 분석결과를 위치, 통증의 느낌이나 원인, 진료과 형식으로 생성되게 해줘.\n",
    "\n",
    "\"질환명 리스트\";\n",
    "[\n",
    "{0}\n",
    "]\n",
    "\n",
    "\"참고할 통증의 위치\";\n",
    "[ \"허리\", \"목\", \"어깨\", \"팔\", \"다리\", \"손목\", \"발\", \"무릎\", \"가슴\", \"복부\", \"머리\"]\n",
    "\n",
    "\"참고할 통증의 느낌\";\n",
    "['날카로운', '짓누르는 듯한', '칼로 벤 것처럼', '둔한', '둔탁한'\n",
    "'타는 듯한', '쑤시는', '저린', '다른 부위로 퍼지듯', '쓰라린', '간지러운'\n",
    "'찌루는', '조이는', '따끔거리는', '욱신거리는', '아팠다 안 아팠다 함',\n",
    "'죄는 듯한', '압박감', '찌릿찌릿한',\n",
    "'심한', '불쾌한', '마비된', '경련성', '방사통'\n",
    "]\n",
    "\n",
    "\"참고할 통증의 원인\";\n",
    "[ \"과도한 운동\", \"잘못된 자세\", \"부상\", \"스트레스\", \"감염\"]\n",
    "\n",
    "\"참고할 통증 정도의 표현\";\n",
    "[\"경미한\", \"중간 정도의\", \"심한\", \"매우 심한\"]\n",
    "\n",
    "\n",
    "예시를 들어 줄게;\n",
    "\n",
    "예시1 주문 문장: 환자는 척추관 협착증과 좌골신경통을 앓고 있습니다.\n",
    "- 분석 결과 0: 질환명: 척추관 협착증, 위치: 허리, 통증의 느낌: 짓누르는 듯한, 저린, 원인: 퇴행성 변화, 디스크 탈출증, 진료과:정형외과 , 신경외과 , 재활의학과\n",
    "- 분석 결과 1: 질환명: 좌골신경통, 위치: 다리, 통증의 느낌: 방사통, 욱신거리는, 원인: 디스크 탈출증, 척추관 협착증, 진료과: 신경외과\n",
    "\n",
    "예시2 주문 문장: 이 환자는 만성피로증후군과 섬유근육통을 겪고 있습니다.\n",
    "- 분석 결과 0: 질환명: 만성피로증후군, 통증의 느낌: 둔한, 지속적인 피로감, 원인: 스트레스, 감염, 진료과: 신경과, 류마티스내과\n",
    "- 분석 결과 1: 질환명: 섬유근육통, 위치: 전신, 통증의 느낌: 쑤시는, 아팠다 안 아팠다 함, 원인: 스트레스, 부상, 진료과:정형외과, 신경외과, 한의원, 류마티스내과\n",
    "\n",
    "예시3 주문 문장: 이 환자는 테니스엘보와 골관절염을 앓고 있습니다.\n",
    "- 분석 결과 0: 질환명: 테니스엘보, 위치: 팔, 통증의 느낌: 날카로운, 죄는 듯한, 원인: 과도한 운동, 잘못된 자세, 진료과:정형외과\n",
    "- 분석 결과 1: 질환명: 골관절염, 위치: 무릎, 통증의 느낌: 둔탁한, 지속적인, 원인: 퇴행성 변화, 부상, 진료과: 가정의학과, 정형외과, 류마티스내과\n",
    "\n",
    "예시4 주문 문장: 환자는 협심증과 심근경색을 겪었습니다.\n",
    "- 분석 결과 0: 질환명: 협심증, 위치: 가슴, 통증의 느낌: 압박감, 죄는 듯한, 원인: 스트레스, 잘못된 자세, 진료과:심장내과, 순환기내과\n",
    "- 분석 결과 1: 질환명: 심근경색, 위치: 가슴, 통증의 느낌: 심한, 타는 듯한, 원인: 스트레스, 부상, 진료과:심장내과\n",
    "\n",
    "예시5 주문 문장: 환자는 척추관 협착증 질환을 가지고 있습니다.\n",
    "- 분석 결과 0: 질환명: 척추관 협착증, 위치: 허리, 다리, 통증의 느낌: 짓누르는 듯한, 찌르는 듯한, 쥐어짜는 듯한, 타는 듯한, 원인: 퇴행성 변화, 디스크 탈출증, 척추 전방 또는 후방 변위, 진료과:정형외과, 신경외과, 재활의학과\n",
    "\n",
    "###########\n",
    "네가 추가 예시를 10개 만들어줘\n",
    "\"\"\""
   ]
  },
  {
   "cell_type": "code",
   "execution_count": null,
   "id": "8ecfac22-2687-4d7c-95be-d1066359bb2a",
   "metadata": {
    "tags": []
   },
   "outputs": [],
   "source": [
    "response = request_chat_completion(query)"
   ]
  },
  {
   "cell_type": "code",
   "execution_count": null,
   "id": "28cfddf0-516c-48a9-9beb-ba0502a03508",
   "metadata": {
    "tags": []
   },
   "outputs": [],
   "source": [
    "print(response[\"choices\"][0][\"message\"][\"content\"])"
   ]
  },
  {
   "cell_type": "markdown",
   "id": "183562c7-43a9-4a6e-8c1c-002f39b7840a",
   "metadata": {},
   "source": [
    "# 모델학습하기"
   ]
  },
  {
   "cell_type": "code",
   "execution_count": 7,
   "id": "9a48a765-49a2-4ef1-a90a-afda9050c2f2",
   "metadata": {
    "tags": []
   },
   "outputs": [],
   "source": [
    "def prepare_sample_text(example):\n",
    "    \"\"\"Prepare the text from a sample of the dataset.\"\"\"\n",
    "\n",
    "    prompt_template = \"\"\"###System;{System}\n",
    "    ###User;{User} \"\"\"\n",
    "\n",
    "    default_system_msg = (\n",
    "        \"너는 사용자의 통증과 상황에 따라 질환명을 예측해야한다. 일관된 스타일로 답변해야 해.\"\n",
    "    )\n",
    "\n",
    "    text = (\n",
    "        prompt_template.format(System=default_system_msg,\n",
    "                               User=example[\"document\"],\n",
    "                               )\n",
    "    )\n",
    "\n",
    "    return text"
   ]
  },
  {
   "cell_type": "code",
   "execution_count": 8,
   "id": "41e1fcea-4724-46e8-9afa-14f013138c65",
   "metadata": {
    "tags": []
   },
   "outputs": [],
   "source": [
    "# 예제 통증 정보를 변수로 설정\n",
    "pain_info = {\n",
    "    \"location\": \"허리, 목\",\n",
    "    \"trigger\": \"오래 서 있을 때 통증 발생\",\n",
    "    \"pain_timestamp\": \"2024.07.06\",\n",
    "    \"type\": \"저림\",\n",
    "    \"intensity\": \"2/10\"\n",
    "}"
   ]
  },
  {
   "cell_type": "code",
   "execution_count": 9,
   "id": "f987e37d-d66a-4cc8-b215-5b7649d7c410",
   "metadata": {
    "tags": []
   },
   "outputs": [],
   "source": [
    "# example 생성\n",
    "example = {\n",
    "    \"document\": f\"통증 부위: {pain_info['location']}.\\n\"\n",
    "                f\"발생 시각: {pain_info['pain_timestamp']}.\\n\"\n",
    "                f\"{pain_info['trigger']}.\\n\"\n",
    "                f\"통증 느낌: {pain_info['type']}.\\n\"\n",
    "                f\"통증 강도: {pain_info['intensity']}.\\n\"\n",
    "                \"다음과 같은 통증 호소자에게 관련 질환 3개를 중요도 순으로 알려줘.\\n\"\n",
    "                \"질환명만 적어.\"\n",
    "}"
   ]
  },
  {
   "cell_type": "code",
   "execution_count": 10,
   "id": "224a7274-5745-49ef-9ca9-23a98b2122d9",
   "metadata": {
    "tags": []
   },
   "outputs": [
    {
     "name": "stdout",
     "output_type": "stream",
     "text": [
      "통증 부위: 허리, 목.\n",
      "발생 시각: 2024.07.06.\n",
      "오래 서 있을 때 통증 발생.\n",
      "통증 느낌: 저림.\n",
      "통증 강도: 2/10.\n",
      "다음과 같은 통증 호소자에게 관련 질환 3개를 중요도 순으로 알려줘.\n",
      "질환명만 적어.\n"
     ]
    }
   ],
   "source": [
    "print(example[\"document\"])"
   ]
  },
  {
   "cell_type": "code",
   "execution_count": 11,
   "id": "2f7a4458-a6fb-43e7-be15-3e75656af9aa",
   "metadata": {
    "tags": []
   },
   "outputs": [
    {
     "data": {
      "text/plain": [
       "'###System;너는 사용자의 통증과 상황에 따라 질환명을 예측해야한다. 일관된 스타일로 답변해야 해.\\n    ###User;통증 부위: 허리, 목.\\n발생 시각: 2024.07.06.\\n오래 서 있을 때 통증 발생.\\n통증 느낌: 저림.\\n통증 강도: 2/10.\\n다음과 같은 통증 호소자에게 관련 질환 3개를 중요도 순으로 알려줘.\\n질환명만 적어. '"
      ]
     },
     "execution_count": 11,
     "metadata": {},
     "output_type": "execute_result"
    }
   ],
   "source": [
    "prepare_sample_text(example)"
   ]
  },
  {
   "cell_type": "code",
   "execution_count": 12,
   "id": "85bc4e6b-4f54-4754-bd76-a7eba2350205",
   "metadata": {
    "tags": []
   },
   "outputs": [],
   "source": [
    "# 프롬프트 준비\n",
    "prompt = prepare_sample_text(example)"
   ]
  },
  {
   "cell_type": "code",
   "execution_count": 13,
   "id": "84684b0e-57ee-4e21-a30d-f9b5827e293e",
   "metadata": {
    "tags": []
   },
   "outputs": [],
   "source": [
    "response = request_chat_completion(prompt)"
   ]
  },
  {
   "cell_type": "code",
   "execution_count": 14,
   "id": "e8001c4e-09ca-490c-9a41-caf7da2e86ab",
   "metadata": {
    "tags": []
   },
   "outputs": [
    {
     "name": "stdout",
     "output_type": "stream",
     "text": [
      "{\n",
      "  \"id\": \"chatcmpl-9mcpWVqr6qlVg7jdEo4urOREdmoVF\",\n",
      "  \"object\": \"chat.completion\",\n",
      "  \"created\": 1721376034,\n",
      "  \"model\": \"gpt-4-turbo-2024-04-09\",\n",
      "  \"choices\": [\n",
      "    {\n",
      "      \"index\": 0,\n",
      "      \"message\": {\n",
      "        \"role\": \"assistant\",\n",
      "        \"content\": \"1. \\uc694\\ucd94 \\ubc0f \\uacbd\\ucd94 \\ub514\\uc2a4\\ud06c \\uc9c8\\ud658\\n2. \\uadfc\\ub9c9\\ud1b5\\uc99d\\uc99d\\ud6c4\\uad70\\n3. \\ucc99\\ucd94\\uad00\\ud611\\ucc29\\uc99d\"\n",
      "      },\n",
      "      \"logprobs\": null,\n",
      "      \"finish_reason\": \"stop\"\n",
      "    }\n",
      "  ],\n",
      "  \"usage\": {\n",
      "    \"prompt_tokens\": 198,\n",
      "    \"completion_tokens\": 50,\n",
      "    \"total_tokens\": 248\n",
      "  },\n",
      "  \"system_fingerprint\": \"fp_595e3bc347\"\n",
      "}\n"
     ]
    }
   ],
   "source": [
    "print(response)"
   ]
  },
  {
   "cell_type": "code",
   "execution_count": 15,
   "id": "fa35828e-3cef-4ab6-b940-8d12ef470733",
   "metadata": {
    "tags": []
   },
   "outputs": [
    {
     "ename": "JSONDecodeError",
     "evalue": "Expecting value: line 1 column 1 (char 0)",
     "output_type": "error",
     "traceback": [
      "\u001b[1;31m---------------------------------------------------------------------------\u001b[0m",
      "\u001b[1;31mJSONDecodeError\u001b[0m                           Traceback (most recent call last)",
      "\u001b[1;32m~\\AppData\\Local\\Temp\\ipykernel_10316\\4214498291.py\u001b[0m in \u001b[0;36m<module>\u001b[1;34m\u001b[0m\n\u001b[1;32m----> 1\u001b[1;33m \u001b[0mprint_streaming_response\u001b[0m\u001b[1;33m(\u001b[0m\u001b[0mresponse\u001b[0m\u001b[1;33m)\u001b[0m\u001b[1;33m\u001b[0m\u001b[1;33m\u001b[0m\u001b[0m\n\u001b[0m",
      "\u001b[1;32m~\\AppData\\Local\\Temp\\ipykernel_10316\\3161367695.py\u001b[0m in \u001b[0;36mprint_streaming_response\u001b[1;34m(response)\u001b[0m\n\u001b[0;32m      4\u001b[0m     \u001b[1;32mfor\u001b[0m \u001b[0mchunk\u001b[0m \u001b[1;32min\u001b[0m \u001b[0mresponse\u001b[0m\u001b[1;33m:\u001b[0m\u001b[1;33m\u001b[0m\u001b[1;33m\u001b[0m\u001b[0m\n\u001b[0;32m      5\u001b[0m         \u001b[1;32mif\u001b[0m \u001b[0misinstance\u001b[0m\u001b[1;33m(\u001b[0m\u001b[0mchunk\u001b[0m\u001b[1;33m,\u001b[0m \u001b[0mstr\u001b[0m\u001b[1;33m)\u001b[0m\u001b[1;33m:\u001b[0m\u001b[1;33m\u001b[0m\u001b[1;33m\u001b[0m\u001b[0m\n\u001b[1;32m----> 6\u001b[1;33m             \u001b[0mchunk\u001b[0m \u001b[1;33m=\u001b[0m \u001b[0mjson\u001b[0m\u001b[1;33m.\u001b[0m\u001b[0mloads\u001b[0m\u001b[1;33m(\u001b[0m\u001b[0mchunk\u001b[0m\u001b[1;33m)\u001b[0m\u001b[1;33m\u001b[0m\u001b[1;33m\u001b[0m\u001b[0m\n\u001b[0m\u001b[0;32m      7\u001b[0m         \u001b[0mchoices\u001b[0m \u001b[1;33m=\u001b[0m \u001b[0mchunk\u001b[0m\u001b[1;33m.\u001b[0m\u001b[0mget\u001b[0m\u001b[1;33m(\u001b[0m\u001b[1;34m'choices'\u001b[0m\u001b[1;33m,\u001b[0m \u001b[1;33m[\u001b[0m\u001b[1;33m]\u001b[0m\u001b[1;33m)\u001b[0m\u001b[1;33m\u001b[0m\u001b[1;33m\u001b[0m\u001b[0m\n\u001b[0;32m      8\u001b[0m         \u001b[1;32mfor\u001b[0m \u001b[0mchoice\u001b[0m \u001b[1;32min\u001b[0m \u001b[0mchoices\u001b[0m\u001b[1;33m:\u001b[0m\u001b[1;33m\u001b[0m\u001b[1;33m\u001b[0m\u001b[0m\n",
      "\u001b[1;32m~\\AppData\\Local\\Programs\\Python\\Python37\\lib\\json\\__init__.py\u001b[0m in \u001b[0;36mloads\u001b[1;34m(s, encoding, cls, object_hook, parse_float, parse_int, parse_constant, object_pairs_hook, **kw)\u001b[0m\n\u001b[0;32m    346\u001b[0m             \u001b[0mparse_int\u001b[0m \u001b[1;32mis\u001b[0m \u001b[1;32mNone\u001b[0m \u001b[1;32mand\u001b[0m \u001b[0mparse_float\u001b[0m \u001b[1;32mis\u001b[0m \u001b[1;32mNone\u001b[0m \u001b[1;32mand\u001b[0m\u001b[1;33m\u001b[0m\u001b[1;33m\u001b[0m\u001b[0m\n\u001b[0;32m    347\u001b[0m             parse_constant is None and object_pairs_hook is None and not kw):\n\u001b[1;32m--> 348\u001b[1;33m         \u001b[1;32mreturn\u001b[0m \u001b[0m_default_decoder\u001b[0m\u001b[1;33m.\u001b[0m\u001b[0mdecode\u001b[0m\u001b[1;33m(\u001b[0m\u001b[0ms\u001b[0m\u001b[1;33m)\u001b[0m\u001b[1;33m\u001b[0m\u001b[1;33m\u001b[0m\u001b[0m\n\u001b[0m\u001b[0;32m    349\u001b[0m     \u001b[1;32mif\u001b[0m \u001b[0mcls\u001b[0m \u001b[1;32mis\u001b[0m \u001b[1;32mNone\u001b[0m\u001b[1;33m:\u001b[0m\u001b[1;33m\u001b[0m\u001b[1;33m\u001b[0m\u001b[0m\n\u001b[0;32m    350\u001b[0m         \u001b[0mcls\u001b[0m \u001b[1;33m=\u001b[0m \u001b[0mJSONDecoder\u001b[0m\u001b[1;33m\u001b[0m\u001b[1;33m\u001b[0m\u001b[0m\n",
      "\u001b[1;32m~\\AppData\\Local\\Programs\\Python\\Python37\\lib\\json\\decoder.py\u001b[0m in \u001b[0;36mdecode\u001b[1;34m(self, s, _w)\u001b[0m\n\u001b[0;32m    335\u001b[0m \u001b[1;33m\u001b[0m\u001b[0m\n\u001b[0;32m    336\u001b[0m         \"\"\"\n\u001b[1;32m--> 337\u001b[1;33m         \u001b[0mobj\u001b[0m\u001b[1;33m,\u001b[0m \u001b[0mend\u001b[0m \u001b[1;33m=\u001b[0m \u001b[0mself\u001b[0m\u001b[1;33m.\u001b[0m\u001b[0mraw_decode\u001b[0m\u001b[1;33m(\u001b[0m\u001b[0ms\u001b[0m\u001b[1;33m,\u001b[0m \u001b[0midx\u001b[0m\u001b[1;33m=\u001b[0m\u001b[0m_w\u001b[0m\u001b[1;33m(\u001b[0m\u001b[0ms\u001b[0m\u001b[1;33m,\u001b[0m \u001b[1;36m0\u001b[0m\u001b[1;33m)\u001b[0m\u001b[1;33m.\u001b[0m\u001b[0mend\u001b[0m\u001b[1;33m(\u001b[0m\u001b[1;33m)\u001b[0m\u001b[1;33m)\u001b[0m\u001b[1;33m\u001b[0m\u001b[1;33m\u001b[0m\u001b[0m\n\u001b[0m\u001b[0;32m    338\u001b[0m         \u001b[0mend\u001b[0m \u001b[1;33m=\u001b[0m \u001b[0m_w\u001b[0m\u001b[1;33m(\u001b[0m\u001b[0ms\u001b[0m\u001b[1;33m,\u001b[0m \u001b[0mend\u001b[0m\u001b[1;33m)\u001b[0m\u001b[1;33m.\u001b[0m\u001b[0mend\u001b[0m\u001b[1;33m(\u001b[0m\u001b[1;33m)\u001b[0m\u001b[1;33m\u001b[0m\u001b[1;33m\u001b[0m\u001b[0m\n\u001b[0;32m    339\u001b[0m         \u001b[1;32mif\u001b[0m \u001b[0mend\u001b[0m \u001b[1;33m!=\u001b[0m \u001b[0mlen\u001b[0m\u001b[1;33m(\u001b[0m\u001b[0ms\u001b[0m\u001b[1;33m)\u001b[0m\u001b[1;33m:\u001b[0m\u001b[1;33m\u001b[0m\u001b[1;33m\u001b[0m\u001b[0m\n",
      "\u001b[1;32m~\\AppData\\Local\\Programs\\Python\\Python37\\lib\\json\\decoder.py\u001b[0m in \u001b[0;36mraw_decode\u001b[1;34m(self, s, idx)\u001b[0m\n\u001b[0;32m    353\u001b[0m             \u001b[0mobj\u001b[0m\u001b[1;33m,\u001b[0m \u001b[0mend\u001b[0m \u001b[1;33m=\u001b[0m \u001b[0mself\u001b[0m\u001b[1;33m.\u001b[0m\u001b[0mscan_once\u001b[0m\u001b[1;33m(\u001b[0m\u001b[0ms\u001b[0m\u001b[1;33m,\u001b[0m \u001b[0midx\u001b[0m\u001b[1;33m)\u001b[0m\u001b[1;33m\u001b[0m\u001b[1;33m\u001b[0m\u001b[0m\n\u001b[0;32m    354\u001b[0m         \u001b[1;32mexcept\u001b[0m \u001b[0mStopIteration\u001b[0m \u001b[1;32mas\u001b[0m \u001b[0merr\u001b[0m\u001b[1;33m:\u001b[0m\u001b[1;33m\u001b[0m\u001b[1;33m\u001b[0m\u001b[0m\n\u001b[1;32m--> 355\u001b[1;33m             \u001b[1;32mraise\u001b[0m \u001b[0mJSONDecodeError\u001b[0m\u001b[1;33m(\u001b[0m\u001b[1;34m\"Expecting value\"\u001b[0m\u001b[1;33m,\u001b[0m \u001b[0ms\u001b[0m\u001b[1;33m,\u001b[0m \u001b[0merr\u001b[0m\u001b[1;33m.\u001b[0m\u001b[0mvalue\u001b[0m\u001b[1;33m)\u001b[0m \u001b[1;32mfrom\u001b[0m \u001b[1;32mNone\u001b[0m\u001b[1;33m\u001b[0m\u001b[1;33m\u001b[0m\u001b[0m\n\u001b[0m\u001b[0;32m    356\u001b[0m         \u001b[1;32mreturn\u001b[0m \u001b[0mobj\u001b[0m\u001b[1;33m,\u001b[0m \u001b[0mend\u001b[0m\u001b[1;33m\u001b[0m\u001b[1;33m\u001b[0m\u001b[0m\n",
      "\u001b[1;31mJSONDecodeError\u001b[0m: Expecting value: line 1 column 1 (char 0)"
     ]
    }
   ],
   "source": [
    "print_streaming_response(response)"
   ]
  },
  {
   "cell_type": "code",
   "execution_count": null,
   "id": "e9aef04c-9fb4-4020-a758-17a22d31d4f8",
   "metadata": {},
   "outputs": [],
   "source": []
  },
  {
   "cell_type": "markdown",
   "id": "9e507cf6-e19f-4fb4-bfae-de1fc6b62d9c",
   "metadata": {
    "tags": []
   },
   "source": [
    "## 문제점\n",
    "- 매번 결과가 다르게 나옴. 반복적으로 보이는 질환도 있지만 아닐 경우가 더 많음\n",
    "- [결과1]\n",
    "1. 요추염좌\n",
    "2. 경추염좌\n",
    "3. 추간판 탈출증\n",
    "4. 척추관 협착증\n",
    "5. 근막통증증후군\n",
    "- [결과2]\n",
    "1. 경추 디스크\n",
    "2. 요추 디스크\n",
    "3. 근막통증증후군\n",
    "4. 척추 관절염\n",
    "5. 척추협착증\n",
    "- [결과3]\n",
    "1. 요통\n",
    "2. 경추 디스크\n",
    "3. 근막통증증후군"
   ]
  },
  {
   "cell_type": "code",
   "execution_count": null,
   "id": "bc04ba1f-254b-4115-9b81-41b677503654",
   "metadata": {},
   "outputs": [],
   "source": []
  },
  {
   "cell_type": "code",
   "execution_count": null,
   "id": "19ce324b-7a41-4095-a284-c02c6ccdb179",
   "metadata": {},
   "outputs": [],
   "source": []
  }
 ],
 "metadata": {
  "kernelspec": {
   "display_name": "Python 3 (ipykernel)",
   "language": "python",
   "name": "python3"
  },
  "language_info": {
   "codemirror_mode": {
    "name": "ipython",
    "version": 3
   },
   "file_extension": ".py",
   "mimetype": "text/x-python",
   "name": "python",
   "nbconvert_exporter": "python",
   "pygments_lexer": "ipython3",
   "version": "3.7.9"
  }
 },
 "nbformat": 4,
 "nbformat_minor": 5
}
