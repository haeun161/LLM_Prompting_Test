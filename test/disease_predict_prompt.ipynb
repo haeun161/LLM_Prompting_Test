{
 "cells": [
  {
   "cell_type": "markdown",
   "id": "6a4bc8c5-9ded-41e3-9a6c-2aafe6434915",
   "metadata": {},
   "source": [
    "# 기능: 질환 예측하기"
   ]
  },
  {
   "cell_type": "code",
   "execution_count": 1,
   "id": "1cc80e6f-33c6-421b-abfa-1992df73ee0b",
   "metadata": {
    "tags": []
   },
   "outputs": [],
   "source": [
    "import openai\n",
    "import os"
   ]
  },
  {
   "cell_type": "code",
   "execution_count": 2,
   "id": "86e6d29a-daab-43cd-8b0e-7cede087bb6f",
   "metadata": {
    "tags": []
   },
   "outputs": [],
   "source": [
    "openai.api_key = os.getenv(\"OPENAI_API_KEY\")"
   ]
  },
  {
   "cell_type": "markdown",
   "id": "0dc30524-6109-4063-ba4f-9df0e37907b1",
   "metadata": {},
   "source": [
    "## ChatCompletion API\n",
    "Role\n",
    "- user\n",
    "- assistant (ai)\n",
    "- system (ai에게 역할 부여-성격, 말투)"
   ]
  },
  {
   "cell_type": "code",
   "execution_count": 3,
   "id": "c944d89d-a816-4710-84c6-65a945bb21d6",
   "metadata": {
    "tags": []
   },
   "outputs": [],
   "source": [
    "response = openai.ChatCompletion.create(\n",
    "    model=\"gpt-4-turbo\",\n",
    "    messages=[\n",
    "        {\n",
    "            \"role\": \"user\",\n",
    "            \"content\": \"안녕!\"\n",
    "        }\n",
    "    ]\n",
    ")"
   ]
  },
  {
   "cell_type": "code",
   "execution_count": 4,
   "id": "3a50dc46-a81d-4a9f-9994-f21ba875ae80",
   "metadata": {
    "tags": []
   },
   "outputs": [
    {
     "data": {
      "text/plain": [
       "'안녕하세요! 무엇을 도와드릴까요?'"
      ]
     },
     "execution_count": 4,
     "metadata": {},
     "output_type": "execute_result"
    }
   ],
   "source": [
    "response[\"choices\"][0][\"message\"][\"content\"]"
   ]
  },
  {
   "cell_type": "code",
   "execution_count": 5,
   "id": "2a803365-7ae8-418f-941f-68175b62f616",
   "metadata": {
    "tags": []
   },
   "outputs": [],
   "source": [
    "###모델 파라미터"
   ]
  },
  {
   "cell_type": "code",
   "execution_count": 3,
   "id": "7d4db3fa-fa18-4994-9168-459016737410",
   "metadata": {
    "tags": []
   },
   "outputs": [],
   "source": [
    "def request_chat_completion(\n",
    "    prompt, \n",
    "    system_role=\"당신은 사용자의 상황에 따라 질환명을 예측해주는 유용한 질환예측 도우미입니다.당신은 유용한 도우미입니다.\", \n",
    "    model=\"gpt-4-turbo\",\n",
    "    stream=False\n",
    "):\n",
    "    messages = [\n",
    "        {\"role\": \"system\", \"content\": system_role},\n",
    "        {\"role\": \"user\", \"content\": prompt}\n",
    "    ]\n",
    "    response = openai.ChatCompletion.create(\n",
    "        model=model,\n",
    "        messages=messages,\n",
    "        stream=stream\n",
    "    )\n",
    "    return response"
   ]
  },
  {
   "cell_type": "code",
   "execution_count": 4,
   "id": "2e8801d9-6306-4221-bb0d-03368da293e7",
   "metadata": {
    "tags": []
   },
   "outputs": [],
   "source": [
    "def print_streaming_response(response):\n",
    "    for chunk in response:\n",
    "        delta = chunk.choices[0][\"delta\"]\n",
    "        if \"content\" in delta:\n",
    "            print(delta[\"content\"], end=\"\")\n",
    "        else:\n",
    "            break"
   ]
  },
  {
   "cell_type": "markdown",
   "id": "1dddbb5f-1cf0-45c9-b82a-df5ea1136ba2",
   "metadata": {
    "tags": []
   },
   "source": [
    "## 프롬프트 엔지니어링"
   ]
  },
  {
   "cell_type": "code",
   "execution_count": 5,
   "id": "54d45331-3181-4363-a77d-09e838555825",
   "metadata": {
    "tags": []
   },
   "outputs": [],
   "source": [
    "prompt_template = \"\"\"\n",
    "당신의 임무는 일관된 스타일로 답변하는 것입니다.\n",
    "통증 부위: 허리, 목.\n",
    "발생 시각: 2024.07.06.\n",
    "오래 서 있을때 통증 발생.\n",
    "통증 느낌: 저림\n",
    "통증 강도: 2/10.\n",
    "다음과 같은 통증 호소자에게 관련 질환 3개를 중요도 순으로 알려줘.\n",
    "질환명만 적어.\n",
    "\"\"\".strip()"
   ]
  },
  {
   "cell_type": "code",
   "execution_count": 6,
   "id": "224a7274-5745-49ef-9ca9-23a98b2122d9",
   "metadata": {
    "tags": []
   },
   "outputs": [
    {
     "name": "stdout",
     "output_type": "stream",
     "text": [
      "당신의 임무는 일관된 스타일로 답변하는 것입니다.\n",
      "통증 부위: 허리, 목.\n",
      "발생 시각: 2024.07.06.\n",
      "오래 서 있을때 통증 발생.\n",
      "통증 느낌: 저림\n",
      "통증 강도: 2/10.\n",
      "다음과 같은 통증 호소자에게 관련 질환 3개를 중요도 순으로 알려줘.\n",
      "질환명만 적어.\n"
     ]
    }
   ],
   "source": [
    "print(prompt_template)"
   ]
  },
  {
   "cell_type": "code",
   "execution_count": 10,
   "id": "84684b0e-57ee-4e21-a30d-f9b5827e293e",
   "metadata": {
    "tags": []
   },
   "outputs": [],
   "source": [
    "system_role= \"당신은 사용자의 상황에 따라 질환명을 예측해주는 유용한 질환예측 도우미입니다.\"\n",
    "response = request_chat_completion(prompt_template, system_role=system_role, stream=True)"
   ]
  },
  {
   "cell_type": "code",
   "execution_count": 11,
   "id": "e8001c4e-09ca-490c-9a41-caf7da2e86ab",
   "metadata": {
    "tags": []
   },
   "outputs": [
    {
     "name": "stdout",
     "output_type": "stream",
     "text": [
      "1. 요통\n",
      "2. 경추 디스크\n",
      "3. 근막통증증후군"
     ]
    }
   ],
   "source": [
    "print_streaming_response(response)"
   ]
  },
  {
   "cell_type": "markdown",
   "id": "9e507cf6-e19f-4fb4-bfae-de1fc6b62d9c",
   "metadata": {
    "tags": []
   },
   "source": [
    "## 문제점\n",
    "- 매번 결과가 다르게 나옴. 반복적으로 보이는 질환도 있지만 아닐 경우가 더 많음\n",
    "- [결과1]\n",
    "1. 요추염좌\n",
    "2. 경추염좌\n",
    "3. 추간판 탈출증\n",
    "4. 척추관 협착증\n",
    "5. 근막통증증후군\n",
    "- [결과2]\n",
    "1. 경추 디스크\n",
    "2. 요추 디스크\n",
    "3. 근막통증증후군\n",
    "4. 척추 관절염\n",
    "5. 척추협착증\n",
    "- [결과3]\n",
    "1. 요통\n",
    "2. 경추 디스크\n",
    "3. 근막통증증후군"
   ]
  },
  {
   "cell_type": "code",
   "execution_count": null,
   "id": "bc04ba1f-254b-4115-9b81-41b677503654",
   "metadata": {},
   "outputs": [],
   "source": []
  },
  {
   "cell_type": "code",
   "execution_count": null,
   "id": "19ce324b-7a41-4095-a284-c02c6ccdb179",
   "metadata": {},
   "outputs": [],
   "source": []
  }
 ],
 "metadata": {
  "kernelspec": {
   "display_name": "Python 3 (ipykernel)",
   "language": "python",
   "name": "python3"
  },
  "language_info": {
   "codemirror_mode": {
    "name": "ipython",
    "version": 3
   },
   "file_extension": ".py",
   "mimetype": "text/x-python",
   "name": "python",
   "nbconvert_exporter": "python",
   "pygments_lexer": "ipython3",
   "version": "3.7.9"
  }
 },
 "nbformat": 4,
 "nbformat_minor": 5
}
